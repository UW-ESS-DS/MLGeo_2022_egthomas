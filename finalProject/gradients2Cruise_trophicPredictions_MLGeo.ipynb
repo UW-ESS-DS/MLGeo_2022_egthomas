{
 "cells": [
  {
   "cell_type": "code",
   "execution_count": 4,
   "metadata": {},
   "outputs": [],
   "source": [
    "import warnings\n",
    "warnings.filterwarnings(\"ignore\")\n",
    "import pandas as pd\n",
    "import numpy as np \n",
    "from sklearn.preprocessing import MinMaxScaler\n",
    "from sklearn.manifold import TSNE\n",
    "from xgboost import XGBClassifier #xgboost==0.90"
   ]
  },
  {
   "cell_type": "markdown",
   "metadata": {},
   "source": [
    "## generate gradients 2 cruise protist trophic mode predictions"
   ]
  },
  {
   "cell_type": "code",
   "execution_count": 3,
   "metadata": {
    "scrolled": true
   },
   "outputs": [],
   "source": [
    "#load training data\n",
    "#from cultures of protists\n",
    "data = pd.read_csv('Field_training_data.csv')\n",
    "labels = pd.read_csv('Field_training_labels.csv')\n",
    "data = data.reset_index(drop=True)\n",
    "labels = labels.reset_index(drop=True)\n",
    "\n",
    "#drop training data rows that have an unknown trophic mode\n",
    "idx = labels.index[labels['Trophic mode'] == 'Un']\n",
    "train_labels = labels.drop(idx)\n",
    "train_data = data.drop(idx)\n",
    "\n",
    "#load training features (pfams)\n",
    "#1046 features\n",
    "features = pd.read_csv('Extracted_Pfams.csv')\n",
    "\n",
    "#load transcripts-per-million normalized expression of PFAMs \n",
    "#for species across g2 samples\n",
    "G2_TPM_merged_lats = pd.read_csv('G2_surface_tpm_updatedMarferret_marmicroDb.csv')"
   ]
  },
  {
   "cell_type": "code",
   "execution_count": 4,
   "metadata": {},
   "outputs": [],
   "source": [
    "#fix PFAM IDs in feature dataset\n",
    "features = features['Pfam'].str.split('.').str[0]"
   ]
  },
  {
   "cell_type": "code",
   "execution_count": 5,
   "metadata": {},
   "outputs": [],
   "source": [
    "#drop PFAMs in feature dataset that are not present in any \n",
    "#species across G2 samples\n",
    "pfams_toDrop = ['PF02362', 'PF08017', 'PF04413', 'PF05217', 'PF03986', 'PF08217', 'PF13427', 'PF08802']"
   ]
  },
  {
   "cell_type": "code",
   "execution_count": 6,
   "metadata": {},
   "outputs": [],
   "source": [
    "#drop PFAMs from feature dataset that are not in G2\n",
    "#samples\n",
    "features = features[~features.isin(pfams_toDrop)]"
   ]
  },
  {
   "cell_type": "code",
   "execution_count": 7,
   "metadata": {},
   "outputs": [],
   "source": [
    "#exclude PFAMs from test dataset that are not in training \n",
    "#feature dataset \n",
    "G2_TPM_merged_lats = G2_TPM_merged_lats[features]"
   ]
  },
  {
   "cell_type": "code",
   "execution_count": 8,
   "metadata": {},
   "outputs": [],
   "source": [
    "#exclude PFAMs from training dataset that are not in \n",
    "#feature dataset\n",
    "train_data = train_data[features]"
   ]
  },
  {
   "cell_type": "code",
   "execution_count": 9,
   "metadata": {},
   "outputs": [],
   "source": [
    "#min max scale training data\n",
    "X,y = train_data, train_labels['Trophic mode']\n",
    "scaler = MinMaxScaler()\n",
    "X = scaler.fit_transform(X)"
   ]
  },
  {
   "cell_type": "code",
   "execution_count": 10,
   "metadata": {},
   "outputs": [],
   "source": [
    "#scale g2 test dataset\n",
    "G2 = scaler.transform(G2_TPM_merged_lats)"
   ]
  },
  {
   "cell_type": "code",
   "execution_count": 11,
   "metadata": {},
   "outputs": [
    {
     "data": {
      "text/plain": [
       "XGBClassifier(base_score=0.5, booster='gbtree', colsample_bylevel=1,\n",
       "              colsample_bynode=1, colsample_bytree=1, gamma=0,\n",
       "              learning_rate=0.5, max_delta_step=0, max_depth=3,\n",
       "              min_child_weight=1, missing=None, n_estimators=10, n_jobs=1,\n",
       "              nthread=None, objective='multi:softprob', random_state=0,\n",
       "              reg_alpha=0, reg_lambda=0.0, scale_pos_weight=1, seed=None,\n",
       "              silent=None, subsample=1, verbosity=1)"
      ]
     },
     "execution_count": 11,
     "metadata": {},
     "output_type": "execute_result"
    }
   ],
   "source": [
    "#fix xg boost model\n",
    "model = XGBClassifier(n_estimators=10, learning_rate=0.5, reg_lambda=0.)\n",
    "model.fit(X,y)"
   ]
  },
  {
   "cell_type": "code",
   "execution_count": 12,
   "metadata": {},
   "outputs": [],
   "source": [
    "#predict trophic mode of protist species across g2 samples\n",
    "xg_predictions_G2 = model.predict(G2)"
   ]
  },
  {
   "cell_type": "code",
   "execution_count": 14,
   "metadata": {},
   "outputs": [],
   "source": [
    "#make trophic mode of protist species across g2 samples \n",
    "#into dataframe\n",
    "G2_predictions = pd.DataFrame(data={'xg_pred':xg_predictions_G2})"
   ]
  },
  {
   "cell_type": "markdown",
   "metadata": {},
   "source": []
  },
  {
   "cell_type": "code",
   "execution_count": 15,
   "metadata": {},
   "outputs": [],
   "source": [
    "G2_predictions.to_csv('G2_surface_trophicModePredictions_updatedMarferret_marmicroDb',index=False)"
   ]
  },
  {
   "cell_type": "markdown",
   "metadata": {},
   "source": [
    "## run ML model with different sets of features"
   ]
  },
  {
   "cell_type": "code",
   "execution_count": 16,
   "metadata": {},
   "outputs": [],
   "source": [
    "#make dataframes that will have PFAMs used for each \n",
    "#bootstrap run, and trophic mode predictions outputed \n",
    "#by each bootstrap run\n",
    "input_pfams = {}\n",
    "output_predictions ={}\n",
    "\n",
    "input_pfams = pd.DataFrame(input_pfams)\n",
    "output_predictions = pd.DataFrame(output_predictions)"
   ]
  },
  {
   "cell_type": "code",
   "execution_count": 17,
   "metadata": {},
   "outputs": [],
   "source": [
    "#run xgboost model 30 times, each time selecting 90% of \n",
    "#the PFAMs, without replacement\n",
    "for i in range (0, 30):\n",
    "    features1 = features.sample(frac =.9)\n",
    "    G2_TPM_merged_lats1 = G2_TPM_merged_lats[features1]\n",
    "    train_data1 = train_data[features1]\n",
    "    X,y = train_data1, train_labels['Trophic mode']\n",
    "    scaler = MinMaxScaler()\n",
    "    X = scaler.fit_transform(X)\n",
    "    G2 = scaler.transform(G2_TPM_merged_lats1)\n",
    "    model = XGBClassifier(n_estimators=10, learning_rate=0.5, reg_lambda=0.)\n",
    "    model.fit(X,y)\n",
    "    xg_predictions_G2_1 = model.predict(G2)\n",
    "    input_pfams[f'col{i}'] = features1\n",
    "    output_predictions[f'col{i}'] = xg_predictions_G2_1"
   ]
  },
  {
   "cell_type": "code",
   "execution_count": 18,
   "metadata": {},
   "outputs": [],
   "source": [
    "input_pfams.to_csv('bootstrapPfams.csv')\n",
    "output_predictions.to_csv('bootstrapPredictions.csv')"
   ]
  },
  {
   "cell_type": "code",
   "execution_count": 19,
   "metadata": {},
   "outputs": [],
   "source": [
    "#make dataframes that will have number of PFAMs used \n",
    "#for each bootstrap run, and trophic mode predictions \n",
    "#outputed by each bootstrap run\n",
    "input_pfamNum = {}\n",
    "output_predictionAcc ={}\n",
    "\n",
    "input_pfamNum = pd.DataFrame(input_pfamNum)\n",
    "output_predictionAcc = pd.DataFrame(output_predictionAcc)"
   ]
  },
  {
   "cell_type": "code",
   "execution_count": 20,
   "metadata": {},
   "outputs": [],
   "source": [
    "#run xgboost model 1000 times, each time selecting a random \n",
    "#proportion of the PFAMs, without replacement\n",
    "for i in range (0, 1000):\n",
    "    randFrac = np.random.uniform(low=.001, high=1)\n",
    "    features1 = features.sample(frac = randFrac)\n",
    "    G2_TPM_merged_lats1 = G2_TPM_merged_lats[features1]\n",
    "    train_data1 = train_data[features1]\n",
    "    X,y = train_data1, train_labels['Trophic mode']\n",
    "    scaler = MinMaxScaler()\n",
    "    X = scaler.fit_transform(X)\n",
    "    G2 = scaler.transform(G2_TPM_merged_lats1)\n",
    "    model = XGBClassifier(n_estimators=10, learning_rate=0.5, reg_lambda=0.)\n",
    "    model.fit(X,y)\n",
    "    xg_predictions_G2_1 = model.predict(G2)\n",
    "    input_pfamNum[f'col{i}'] = [randFrac]\n",
    "    output_predictionAcc[f'col{i}'] = xg_predictions_G2_1"
   ]
  },
  {
   "cell_type": "code",
   "execution_count": 21,
   "metadata": {},
   "outputs": [],
   "source": [
    "input_pfamNum.to_csv('bootstrapNumPfams.csv')\n",
    "output_predictionAcc.to_csv('bootstrapPredictionsChangeNumPfams.csv')"
   ]
  },
  {
   "cell_type": "code",
   "execution_count": null,
   "metadata": {},
   "outputs": [],
   "source": []
  }
 ],
 "metadata": {
  "kernelspec": {
   "display_name": "Python 3 (ipykernel)",
   "language": "python",
   "name": "python3"
  },
  "language_info": {
   "codemirror_mode": {
    "name": "ipython",
    "version": 3
   },
   "file_extension": ".py",
   "mimetype": "text/x-python",
   "name": "python",
   "nbconvert_exporter": "python",
   "pygments_lexer": "ipython3",
   "version": "3.7.12"
  }
 },
 "nbformat": 4,
 "nbformat_minor": 2
}
